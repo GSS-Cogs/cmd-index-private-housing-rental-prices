{
 "cells": [
  {
   "cell_type": "code",
   "execution_count": 1,
   "metadata": {},
   "outputs": [],
   "source": [
    "#!/usr/bin/env python3\n",
    "# -*- coding: utf-8 -*-\n",
    "\"\"\"\n",
    "Created on Wed Feb 27 12:00:25 2019\n",
    "\n",
    "@author: robertgrant\n",
    "\"\"\"\n",
    "\n",
    "import numpy as np\n",
    "from databaker.framework import *\n",
    "import pandas as pd\n",
    "from databakerUtils.writers import v4Writer\n",
    "import re\n",
    "import requests\n",
    "import json\n",
    "import datetime\n",
    "import math\n",
    "from datetime import datetime\n",
    "import glob\n",
    "import os\n",
    "\n",
    "\n",
    "file = 'IPHRP INDEX CHART DATA AUG 2019.csv'\n",
    "\n",
    "df = pd.read_csv(file)\n",
    "\n",
    "#isolate 12m growth\n",
    "pc = df.copy(deep = True)\n",
    "val = df.copy(deep = True)\n",
    "\n",
    "#create value col \n",
    "pc['value'] = pc['12m growth']\n",
    "val['value'] = val['Index value']\n",
    "\n",
    "#explainer col\n",
    "pc['iphrp-variable'] = 'year-change'\n",
    "val['iphrp-variable'] = 'index'\n",
    "\n",
    "pc['variable'] = 'Year-on-year change'\n",
    "val['variable'] = 'Index'\n",
    "\n",
    "\n",
    "#concatenatae\n",
    "full = pd.concat([pc, val])\n",
    "\n",
    "#tidy\n",
    "full['mmm-yy'] = full['Date']\n",
    "\n",
    "#change NI code\n",
    "full['RegionCode'] = full['RegionCode'].replace('N92000001','N92000002')\n",
    "\n",
    "#add data marking\n",
    "full['Data_Marking'] = ''\n",
    "\n",
    "full.loc[full['value'] == '-', 'Data_Marking'] = '.'\n",
    "full.loc[full['value'] == '-', 'value'] = ''\n",
    "\n",
    "v4 = full[['value','Data_Marking','mmm-yy','Date','RegionCode','Geography','iphrp-variable','variable']]\n",
    "v4.columns = ['V4_1','Data_Marking','mmm-yy','time','admin-geography','geography','housing-rental-prices-variable','variable']\n",
    "\n",
    "output_file = 'v4-iphrp-' + v4['mmm-yy'][-1:].item().lower() + '.csv'\n",
    "v4.to_csv(output_file, index = False) \n",
    "\n"
   ]
  },
  {
   "cell_type": "code",
   "execution_count": 2,
   "metadata": {},
   "outputs": [
    {
     "name": "stdout",
     "output_type": "stream",
     "text": [
      "SparsityFiller took 0:00:00.057518\n"
     ]
    }
   ],
   "source": [
    "from databakerUtils.sparsityFunctions import SparsityFiller\n",
    "\n",
    "SparsityFiller(output_file)"
   ]
  },
  {
   "cell_type": "code",
   "execution_count": null,
   "metadata": {},
   "outputs": [],
   "source": []
  }
 ],
 "metadata": {
  "kernelspec": {
   "display_name": "Python 3",
   "language": "python",
   "name": "python3"
  },
  "language_info": {
   "codemirror_mode": {
    "name": "ipython",
    "version": 3
   },
   "file_extension": ".py",
   "mimetype": "text/x-python",
   "name": "python",
   "nbconvert_exporter": "python",
   "pygments_lexer": "ipython3",
   "version": "3.6.5"
  }
 },
 "nbformat": 4,
 "nbformat_minor": 2
}
